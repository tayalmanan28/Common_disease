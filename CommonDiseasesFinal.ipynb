{
  "nbformat": 4,
  "nbformat_minor": 0,
  "metadata": {
    "colab": {
      "name": "CommonDiseasesFinal.ipynb",
      "provenance": [],
      "collapsed_sections": []
    },
    "kernelspec": {
      "name": "python3",
      "display_name": "Python 3"
    }
  },
  "cells": [
    {
      "cell_type": "markdown",
      "metadata": {
        "id": "zXuyjRfkY_ru"
      },
      "source": [
        "Importing the Libraries"
      ]
    },
    {
      "cell_type": "code",
      "metadata": {
        "id": "K53bbMZZXtbz"
      },
      "source": [
        "import pickle \n",
        "import numpy as np\n",
        "from sklearn.ensemble import RandomForestClassifier\n",
        "from sklearn.metrics import accuracy_score"
      ],
      "execution_count": 10,
      "outputs": []
    },
    {
      "cell_type": "code",
      "metadata": {
        "id": "dNVPqZh9YWtr"
      },
      "source": [
        "filename = 'randomForestClassifierCommon.sav'"
      ],
      "execution_count": 11,
      "outputs": []
    },
    {
      "cell_type": "markdown",
      "metadata": {
        "id": "svoSB2GpZFDp"
      },
      "source": [
        "Loading the model"
      ]
    },
    {
      "cell_type": "code",
      "metadata": {
        "id": "gl6BT1GmYBVv"
      },
      "source": [
        "rfc = pickle.load(open(filename, 'rb'))"
      ],
      "execution_count": 12,
      "outputs": []
    },
    {
      "cell_type": "markdown",
      "metadata": {
        "id": "ZrVphbEBZL2K"
      },
      "source": [
        "Creating a random symptoms sample. The input shape should be (1, 132)"
      ]
    },
    {
      "cell_type": "code",
      "metadata": {
        "id": "dpcNY5VsYtn8"
      },
      "source": [
        "\n",
        "trial_numpy = np.random.randint(0, 2, (1, 132))"
      ],
      "execution_count": 50,
      "outputs": []
    },
    {
      "cell_type": "markdown",
      "metadata": {
        "id": "L1WJw-5nZZYN"
      },
      "source": [
        "Predicting the disease for the created sample"
      ]
    },
    {
      "cell_type": "code",
      "metadata": {
        "colab": {
          "base_uri": "https://localhost:8080/"
        },
        "id": "bf3hrxFQYwxc",
        "outputId": "4c9f97ce-b28b-4101-c6e9-e196471ee591"
      },
      "source": [
        "rfc.predict(trial_numpy)"
      ],
      "execution_count": 51,
      "outputs": [
        {
          "output_type": "execute_result",
          "data": {
            "text/plain": [
              "array(['Allergy'], dtype=object)"
            ]
          },
          "metadata": {
            "tags": []
          },
          "execution_count": 51
        }
      ]
    },
    {
      "cell_type": "code",
      "metadata": {
        "id": "FGKCbo0-bD7i"
      },
      "source": [
        ""
      ],
      "execution_count": null,
      "outputs": []
    }
  ]
}